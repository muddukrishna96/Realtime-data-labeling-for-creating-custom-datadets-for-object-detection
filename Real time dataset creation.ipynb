{
 "cells": [
  {
   "cell_type": "code",
   "execution_count": 1,
   "id": "900f85a3",
   "metadata": {},
   "outputs": [],
   "source": [
    "import uuid\n",
    "import os\n",
    "import time\n",
    "import cv2 "
   ]
  },
  {
   "cell_type": "code",
   "execution_count": 2,
   "id": "2736cf23",
   "metadata": {},
   "outputs": [],
   "source": [
    "IMAGE_PATH = os.path.join('data','images') # images are stored as data/images\n",
    "labels=['class1','class2'] # u can mention diffrent types of classed for example happy, sad etc\n",
    "number_imgs = 20 #mention no of images to be collected per class\n"
   ]
  },
  {
   "cell_type": "code",
   "execution_count": 8,
   "id": "db05f6a5",
   "metadata": {
    "scrolled": true
   },
   "outputs": [
    {
     "name": "stdout",
     "output_type": "stream",
     "text": [
      "collecting images forclass1\n",
      "collecting images forclass1,image number0\n",
      "collecting images forclass1,image number1\n",
      "collecting images forclass1,image number2\n",
      "collecting images forclass1,image number3\n",
      "collecting images forclass1,image number4\n",
      "collecting images forclass1,image number5\n",
      "collecting images forclass1,image number6\n",
      "collecting images forclass1,image number7\n",
      "collecting images forclass1,image number8\n",
      "collecting images forclass1,image number9\n",
      "collecting images forclass1,image number10\n",
      "collecting images forclass1,image number11\n",
      "collecting images forclass1,image number12\n",
      "collecting images forclass1,image number13\n",
      "collecting images forclass1,image number14\n",
      "collecting images forclass1,image number15\n",
      "collecting images forclass1,image number16\n",
      "collecting images forclass1,image number17\n",
      "collecting images forclass1,image number18\n",
      "collecting images forclass1,image number19\n",
      "collecting images forclass2\n",
      "collecting images forclass2,image number0\n",
      "collecting images forclass2,image number1\n",
      "collecting images forclass2,image number2\n",
      "collecting images forclass2,image number3\n",
      "collecting images forclass2,image number4\n",
      "collecting images forclass2,image number5\n",
      "collecting images forclass2,image number6\n",
      "collecting images forclass2,image number7\n",
      "collecting images forclass2,image number8\n",
      "collecting images forclass2,image number9\n",
      "collecting images forclass2,image number10\n",
      "collecting images forclass2,image number11\n",
      "collecting images forclass2,image number12\n",
      "collecting images forclass2,image number13\n",
      "collecting images forclass2,image number14\n",
      "collecting images forclass2,image number15\n",
      "collecting images forclass2,image number16\n",
      "collecting images forclass2,image number17\n",
      "collecting images forclass2,image number18\n",
      "collecting images forclass2,image number19\n"
     ]
    }
   ],
   "source": [
    "# this code is used to loop through the lables and collects no of images for each\n",
    "#next we will label them using ta pakage called labelimages\n",
    "# VIDEO FEED\n",
    "# for doing any real time estimation this block of code is more use full\n",
    "\n",
    "\n",
    "cap=cv2.VideoCapture(0) #using this we can use our video input decice to input the video\n",
    "cap.set(cv2.CAP_PROP_FRAME_WIDTH, 300)\n",
    "cap.set(cv2.CAP_PROP_FRAME_HEIGHT, 400)\n",
    "width = cap.get(cv2.CAP_PROP_FRAME_WIDTH)\n",
    "height = cap.get(cv2.CAP_PROP_FRAME_HEIGHT)\n",
    "\n",
    "\n",
    "# loop through lables\n",
    "for label in labels:\n",
    "    print('collecting images for{}'.format(label))\n",
    "    \n",
    "    \n",
    "    #loop through image range\n",
    "    for img_num in range(number_imgs):\n",
    "        print('collecting images for{},image number{}'.format(label,img_num))\n",
    "        \n",
    "        # webcam feed\n",
    "        ret , frame = cap.read()\n",
    "        \n",
    "        #naming out image paths\n",
    "        imgname = os.path.join(IMAGE_PATH, label+'.'+str(uuid.uuid1())+'.jpg') #Generatiung image names with file paths\n",
    "        \n",
    "        #writes out images to file\n",
    "        cv2.imwrite(imgname , frame)\n",
    "        \n",
    "        #render to screen\n",
    "        cv2.imshow('Image collection', frame)\n",
    "        \n",
    "        #2seconds delay between captures\n",
    "        time.sleep(2)\n",
    "        \n",
    "        if cv2.waitKey(10) & 0xFF == ord('q'): # this is used to close our screen it checks weather the user is hitting q to close the wondow\n",
    "            break\n",
    "\n",
    "cap.release()\n",
    "cv2.destroyAllWindows()"
   ]
  },
  {
   "cell_type": "code",
   "execution_count": 9,
   "id": "83feb8c1",
   "metadata": {
    "scrolled": true
   },
   "outputs": [
    {
     "name": "stderr",
     "output_type": "stream",
     "text": [
      "Cloning into 'labelImg'...\n"
     ]
    }
   ],
   "source": [
    "!git clone https://github.com/tzutalin/labelImg"
   ]
  },
  {
   "cell_type": "code",
   "execution_count": null,
   "id": "ce7d5220",
   "metadata": {},
   "outputs": [],
   "source": [
    "!pip install pyqt5 lxml --upgrade\n",
    "!cd labelImage && pyrcc5 - o libs/resources.py resources.qrc"
   ]
  }
 ],
 "metadata": {
  "kernelspec": {
   "display_name": "Python 3",
   "language": "python",
   "name": "python3"
  },
  "language_info": {
   "codemirror_mode": {
    "name": "ipython",
    "version": 3
   },
   "file_extension": ".py",
   "mimetype": "text/x-python",
   "name": "python",
   "nbconvert_exporter": "python",
   "pygments_lexer": "ipython3",
   "version": "3.8.8"
  }
 },
 "nbformat": 4,
 "nbformat_minor": 5
}
